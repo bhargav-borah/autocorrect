{
  "nbformat": 4,
  "nbformat_minor": 0,
  "metadata": {
    "colab": {
      "provenance": []
    },
    "kernelspec": {
      "name": "python3",
      "display_name": "Python 3"
    },
    "language_info": {
      "name": "python"
    }
  },
  "cells": [
    {
      "cell_type": "code",
      "execution_count": 9,
      "metadata": {
        "id": "5OVJZld7FOBy"
      },
      "outputs": [],
      "source": [
        "import re\n",
        "from collections import Counter\n",
        "import numpy as np"
      ]
    },
    {
      "cell_type": "code",
      "source": [
        "with open('shakespeare.txt', 'r') as f:\n",
        "  content = f.read()\n",
        "  f.close()"
      ],
      "metadata": {
        "id": "Tvk_RQUKFZz3"
      },
      "execution_count": 10,
      "outputs": []
    },
    {
      "cell_type": "code",
      "source": [
        "def preprocess_text_data(filename):\n",
        "  with open(filename, 'r') as f:\n",
        "    content = f.read()\n",
        "\n",
        "  words_l = re.findall(r'\\b\\w+\\b', content.lower())\n",
        "\n",
        "  return words_l"
      ],
      "metadata": {
        "id": "a2bwZG6OGMtF"
      },
      "execution_count": 11,
      "outputs": []
    },
    {
      "cell_type": "code",
      "source": [
        "def get_count_dict(words_l):\n",
        "  # word_count_dict = {}\n",
        "\n",
        "  # for word in words_l:\n",
        "  #   word_count_dict[word] = word_count_dict.get(word, 0) + 1\n",
        "\n",
        "  # return word_count_dict\n",
        "  return Counter(words_l)"
      ],
      "metadata": {
        "id": "cUHtf1_rHyyF"
      },
      "execution_count": 12,
      "outputs": []
    },
    {
      "cell_type": "code",
      "source": [
        "def get_probs_dict(word_count_dict):\n",
        "  total_count = 0\n",
        "  for count in word_count_dict.values():\n",
        "    total_count += count\n",
        "\n",
        "  probs_dict = {k : v / total_count for k, v in word_count_dict.items()}\n",
        "\n",
        "  return probs_dict"
      ],
      "metadata": {
        "id": "ATE6SS4bJsaG"
      },
      "execution_count": 13,
      "outputs": []
    },
    {
      "cell_type": "code",
      "source": [
        "def delete_letter(word):\n",
        "  splits_l = [(word[:i], word[i:]) for i in range(len(word) + 1)]\n",
        "  delete_l = [l + r[1:] for l, r in splits_l if r]\n",
        "\n",
        "  return delete_l"
      ],
      "metadata": {
        "id": "C402E3n9RJXt"
      },
      "execution_count": 14,
      "outputs": []
    },
    {
      "cell_type": "code",
      "source": [
        "def switch_letter(word):\n",
        "  if len(word) < 2:\n",
        "    return []\n",
        "\n",
        "  splits_l = [(word[:i], word[i:]) for i in range(len(word) + 1)]\n",
        "  switch_l = [l + r[:2][::-1] + r[2:] for l, r in splits_l if len(r) >= 2]\n",
        "\n",
        "  return switch_l"
      ],
      "metadata": {
        "id": "WNcfvV45R5O2"
      },
      "execution_count": 15,
      "outputs": []
    },
    {
      "cell_type": "code",
      "source": [
        "def replace_letter(word):\n",
        "  letters = 'abcdefghijklmnopqrstuvwxyz'\n",
        "  splits_l = [(word[:i], word[i:]) for i in range(len(word) + 1)]\n",
        "  replace_l = [l + letter + r[1:] for l, r in splits_l for letter in letters if r and r[0] != letter]\n",
        "\n",
        "  return replace_l"
      ],
      "metadata": {
        "id": "wj66eMB1TPxR"
      },
      "execution_count": 29,
      "outputs": []
    },
    {
      "cell_type": "code",
      "source": [
        "def insert_letter(word):\n",
        "  letters = 'abcdefghijklmnopqrstuvwxyz'\n",
        "  splits_l = [(word[:i], word[i:]) for i in range(len(word) + 1)]\n",
        "  insert_l = [l + letter + r for l, r in splits_l for letter in letters]\n",
        "\n",
        "  return insert_l"
      ],
      "metadata": {
        "id": "UU31yYOsXEbY"
      },
      "execution_count": 37,
      "outputs": []
    },
    {
      "cell_type": "code",
      "source": [
        "def edit_one_letter(word, allow_switches=False):\n",
        "  edits = set(delete_letter(word) + replace_letter(word) + insert_letter(word))\n",
        "  if allow_switches:\n",
        "    edits.update(switch_letter(word))\n",
        "\n",
        "  return edits"
      ],
      "metadata": {
        "id": "Tgg8sfVAXkLX"
      },
      "execution_count": 51,
      "outputs": []
    },
    {
      "cell_type": "code",
      "source": [
        "def edit_two_letters(word, allow_switches=False):\n",
        "  edits_one_letter = edit_one_letter(word, allow_switches=allow_switches)\n",
        "  edits_two_letter = set()\n",
        "\n",
        "  for word_ in edits_one_letter:\n",
        "    edits_two_letter.update(edit_one_letter(word_, allow_switches=allow_switches))\n",
        "\n",
        "  return edits_two_letter"
      ],
      "metadata": {
        "id": "01K6dP6sYyPE"
      },
      "execution_count": 50,
      "outputs": []
    }
  ]
}