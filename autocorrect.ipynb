{
  "nbformat": 4,
  "nbformat_minor": 0,
  "metadata": {
    "colab": {
      "provenance": []
    },
    "kernelspec": {
      "name": "python3",
      "display_name": "Python 3"
    },
    "language_info": {
      "name": "python"
    }
  },
  "cells": [
    {
      "cell_type": "code",
      "execution_count": 39,
      "metadata": {
        "id": "5OVJZld7FOBy"
      },
      "outputs": [],
      "source": [
        "import re\n",
        "from collections import Counter\n",
        "import numpy as np"
      ]
    },
    {
      "cell_type": "code",
      "source": [
        "FILENAME = 'shakespeare.txt'"
      ],
      "metadata": {
        "id": "KgV2HaOe8KjC"
      },
      "execution_count": 22,
      "outputs": []
    },
    {
      "cell_type": "code",
      "source": [
        "with open(FILENAME, 'r') as f:\n",
        "  content = f.read()\n",
        "  f.close()"
      ],
      "metadata": {
        "id": "Tvk_RQUKFZz3"
      },
      "execution_count": 4,
      "outputs": []
    },
    {
      "cell_type": "code",
      "source": [
        "def preprocess_text_data(filename):\n",
        "  with open(filename, 'r') as f:\n",
        "    content = f.read()\n",
        "\n",
        "  words_l = re.findall(r'\\b\\w+\\b', content.lower())\n",
        "\n",
        "  return words_l"
      ],
      "metadata": {
        "id": "a2bwZG6OGMtF"
      },
      "execution_count": 5,
      "outputs": []
    },
    {
      "cell_type": "code",
      "source": [
        "def get_vocab(FILENAME):\n",
        "  return set(preprocess_text_data(FILENAME))"
      ],
      "metadata": {
        "id": "1bNTSQn58TSa"
      },
      "execution_count": 24,
      "outputs": []
    },
    {
      "cell_type": "code",
      "source": [
        "def get_count_dict(words_l):\n",
        "  # word_count_dict = {}\n",
        "\n",
        "  # for word in words_l:\n",
        "  #   word_count_dict[word] = word_count_dict.get(word, 0) + 1\n",
        "\n",
        "  # return word_count_dict\n",
        "  return Counter(words_l)"
      ],
      "metadata": {
        "id": "cUHtf1_rHyyF"
      },
      "execution_count": 6,
      "outputs": []
    },
    {
      "cell_type": "code",
      "source": [
        "def get_probs_dict(word_count_dict):\n",
        "  total_count = 0\n",
        "  for count in word_count_dict.values():\n",
        "    total_count += count\n",
        "\n",
        "  probs_dict = {k : v / total_count for k, v in word_count_dict.items()}\n",
        "\n",
        "  return probs_dict"
      ],
      "metadata": {
        "id": "ATE6SS4bJsaG"
      },
      "execution_count": 7,
      "outputs": []
    },
    {
      "cell_type": "code",
      "source": [
        "def delete_letter(word):\n",
        "  splits_l = [(word[:i], word[i:]) for i in range(len(word) + 1)]\n",
        "  delete_l = [l + r[1:] for l, r in splits_l if r]\n",
        "\n",
        "  return delete_l"
      ],
      "metadata": {
        "id": "C402E3n9RJXt"
      },
      "execution_count": 8,
      "outputs": []
    },
    {
      "cell_type": "code",
      "source": [
        "def switch_letter(word):\n",
        "  if len(word) < 2:\n",
        "    return []\n",
        "\n",
        "  splits_l = [(word[:i], word[i:]) for i in range(len(word) + 1)]\n",
        "  switch_l = [l + r[:2][::-1] + r[2:] for l, r in splits_l if len(r) >= 2]\n",
        "\n",
        "  return switch_l"
      ],
      "metadata": {
        "id": "WNcfvV45R5O2"
      },
      "execution_count": 9,
      "outputs": []
    },
    {
      "cell_type": "code",
      "source": [
        "def replace_letter(word):\n",
        "  letters = 'abcdefghijklmnopqrstuvwxyz'\n",
        "  splits_l = [(word[:i], word[i:]) for i in range(len(word) + 1)]\n",
        "  replace_l = [l + letter + r[1:] for l, r in splits_l for letter in letters if r and r[0] != letter]\n",
        "\n",
        "  return replace_l"
      ],
      "metadata": {
        "id": "wj66eMB1TPxR"
      },
      "execution_count": 10,
      "outputs": []
    },
    {
      "cell_type": "code",
      "source": [
        "def insert_letter(word):\n",
        "  letters = 'abcdefghijklmnopqrstuvwxyz'\n",
        "  splits_l = [(word[:i], word[i:]) for i in range(len(word) + 1)]\n",
        "  insert_l = [l + letter + r for l, r in splits_l for letter in letters]\n",
        "\n",
        "  return insert_l"
      ],
      "metadata": {
        "id": "UU31yYOsXEbY"
      },
      "execution_count": 11,
      "outputs": []
    },
    {
      "cell_type": "code",
      "source": [
        "def edit_one_letter(word, allow_switches=False):\n",
        "  edits = set(delete_letter(word) + replace_letter(word) + insert_letter(word))\n",
        "  if allow_switches:\n",
        "    edits.update(switch_letter(word))\n",
        "\n",
        "  return edits"
      ],
      "metadata": {
        "id": "Tgg8sfVAXkLX"
      },
      "execution_count": 12,
      "outputs": []
    },
    {
      "cell_type": "code",
      "source": [
        "def edit_two_letters(word, allow_switches=False):\n",
        "  edits_one_letter = edit_one_letter(word, allow_switches=allow_switches)\n",
        "  edits_two_letter = set()\n",
        "\n",
        "  for word_ in edits_one_letter:\n",
        "    edits_two_letter.update(edit_one_letter(word_, allow_switches=allow_switches))\n",
        "\n",
        "  return edits_two_letter"
      ],
      "metadata": {
        "id": "01K6dP6sYyPE"
      },
      "execution_count": 13,
      "outputs": []
    },
    {
      "cell_type": "code",
      "source": [
        "def get_corrections(word, probs, vocab, top_n=3):\n",
        "  suggestions = set()\n",
        "\n",
        "  if word in vocab:\n",
        "    suggestions.update([word])\n",
        "  else:\n",
        "    one_letter_edits = edit_one_letter(word,\n",
        "                                       allow_switches=True).intersection(vocab)\n",
        "    if one_letter_edits:\n",
        "      suggestions.update(one_letter_edits)\n",
        "    else:\n",
        "      two_letter_edits = edit_two_letters(word,\n",
        "                                          allow_switches=True).intersection(vocab)\n",
        "      if two_letter_edits:\n",
        "        suggestions.update(two_letter_edits)\n",
        "      else:\n",
        "        suggestions.update(word)\n",
        "\n",
        "  suggestions_probs = {word: probs.get(word, 0) for word in suggestions}\n",
        "\n",
        "  top_suggestions = sorted(suggestions_probs,\n",
        "                           key=suggestions_probs.get,\n",
        "                           reverse=True)[:top_n]\n",
        "\n",
        "  return top_suggestions"
      ],
      "metadata": {
        "id": "XzLwnbtB45M_"
      },
      "execution_count": 70,
      "outputs": []
    },
    {
      "cell_type": "code",
      "source": [
        "vocab = get_vocab(FILENAME)\n",
        "probs = get_probs_dict(get_count_dict(preprocess_text_data(FILENAME)))"
      ],
      "metadata": {
        "id": "M4dGkfgl8CGX"
      },
      "execution_count": 71,
      "outputs": []
    },
    {
      "cell_type": "code",
      "source": [
        "get_corrections('noice', probs, vocab, top_n=3)"
      ],
      "metadata": {
        "colab": {
          "base_uri": "https://localhost:8080/"
        },
        "id": "a0fCr0ws8dVr",
        "outputId": "a8632ed9-acb0-4779-be87-7394150fbfbc"
      },
      "execution_count": 72,
      "outputs": [
        {
          "output_type": "execute_result",
          "data": {
            "text/plain": [
              "['voice', 'noise', 'notice']"
            ]
          },
          "metadata": {},
          "execution_count": 72
        }
      ]
    },
    {
      "cell_type": "code",
      "source": [
        "get_corrections('helloo', probs, vocab, top_n=3)"
      ],
      "metadata": {
        "colab": {
          "base_uri": "https://localhost:8080/"
        },
        "id": "lHeYYePv9iJA",
        "outputId": "bf0c2680-cf4f-4d9f-add7-a4f13d50283a"
      },
      "execution_count": 34,
      "outputs": [
        {
          "output_type": "execute_result",
          "data": {
            "text/plain": [
              "['hallow', 'fellow', 'hell']"
            ]
          },
          "metadata": {},
          "execution_count": 34
        }
      ]
    },
    {
      "cell_type": "code",
      "source": [
        "get_corrections('noice', probs, vocab, top_n=5)"
      ],
      "metadata": {
        "colab": {
          "base_uri": "https://localhost:8080/"
        },
        "id": "8RV0IR8H9tri",
        "outputId": "edeb0c89-7b03-493a-b80b-eab7689dccd1"
      },
      "execution_count": 36,
      "outputs": [
        {
          "output_type": "execute_result",
          "data": {
            "text/plain": [
              "['noise', 'notice', 'nice', 'voice']"
            ]
          },
          "metadata": {},
          "execution_count": 36
        }
      ]
    },
    {
      "cell_type": "code",
      "source": [
        "get_corrections('toit', probs, vocab, top_n=3)"
      ],
      "metadata": {
        "colab": {
          "base_uri": "https://localhost:8080/"
        },
        "id": "f-xSAei393EB",
        "outputId": "065667b2-8bbb-47ce-f466-4880cbd84f56"
      },
      "execution_count": 38,
      "outputs": [
        {
          "output_type": "execute_result",
          "data": {
            "text/plain": [
              "['toil', 'tott']"
            ]
          },
          "metadata": {},
          "execution_count": 38
        }
      ]
    },
    {
      "cell_type": "code",
      "source": [
        "def min_edit_distance(source, target, insert_cost=1, delete_cost=1, replace_cost=2):\n",
        "  if source == target:\n",
        "    return 0\n",
        "\n",
        "  n_rows = len(source) + 1\n",
        "  n_cols = len(target) + 1\n",
        "  mat = np.zeros((n_rows, n_cols))\n",
        "\n",
        "  for row in range(1, n_rows):\n",
        "    mat[row][0] = mat[row - 1][0] + delete_cost\n",
        "\n",
        "  for col in range(1, n_cols):\n",
        "    mat[0][col] = mat[0][col - 1] + insert_cost\n",
        "\n",
        "  for row in range(1, n_rows):\n",
        "    for col in range(1, n_cols):\n",
        "      r_cost = replace_cost\n",
        "      if source[row - 1] == target[col - 1]:\n",
        "        r_cost = 0\n",
        "\n",
        "      mat[row][col] = min(mat[row - 1][col] + delete_cost,\n",
        "                          mat[row][col - 1] + insert_cost,\n",
        "                          mat[row - 1][col - 1] + r_cost)\n",
        "\n",
        "  return mat[n_rows - 1][n_cols - 1]"
      ],
      "metadata": {
        "id": "YI6M0WM2-Brc"
      },
      "execution_count": 66,
      "outputs": []
    },
    {
      "cell_type": "code",
      "source": [
        "def get_corrections_v1(word, vocab, top_n=3):\n",
        "  min_edit_distances_dict = {w: min_edit_distance(word, w) for w in vocab}\n",
        "  top_n_similar_words = list(sorted(min_edit_distances_dict,\n",
        "                                    key=min_edit_distances_dict.get))[:top_n]\n",
        "\n",
        "  return top_n_similar_words"
      ],
      "metadata": {
        "id": "NI-sjBOLBl6w"
      },
      "execution_count": 73,
      "outputs": []
    },
    {
      "cell_type": "code",
      "source": [
        "get_corrections_v1('nice', vocab)"
      ],
      "metadata": {
        "colab": {
          "base_uri": "https://localhost:8080/"
        },
        "id": "VQ8pJGX9B9Ya",
        "outputId": "922a0cb9-8be3-4088-9987-1acd698be425"
      },
      "execution_count": 74,
      "outputs": [
        {
          "output_type": "execute_result",
          "data": {
            "text/plain": [
              "['nice', 'nicer', 'ice']"
            ]
          },
          "metadata": {},
          "execution_count": 74
        }
      ]
    },
    {
      "cell_type": "code",
      "source": [
        "get_corrections_v1('helloo', vocab)"
      ],
      "metadata": {
        "colab": {
          "base_uri": "https://localhost:8080/"
        },
        "id": "HjMBt51dEnkc",
        "outputId": "e174d607-d6e2-493a-bdf0-310448cc37a8"
      },
      "execution_count": 77,
      "outputs": [
        {
          "output_type": "execute_result",
          "data": {
            "text/plain": [
              "['hell', 'hoop', 'helm']"
            ]
          },
          "metadata": {},
          "execution_count": 77
        }
      ]
    },
    {
      "cell_type": "markdown",
      "source": [
        "It looks like we don't have 'hello' in the text file."
      ],
      "metadata": {
        "id": "R4jZmX0iEqkf"
      }
    },
    {
      "cell_type": "code",
      "source": [],
      "metadata": {
        "id": "hUdKjfq5Ex5A"
      },
      "execution_count": null,
      "outputs": []
    }
  ]
}